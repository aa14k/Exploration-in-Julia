{
 "cells": [
  {
   "cell_type": "code",
   "execution_count": 1,
   "metadata": {
    "scrolled": true
   },
   "outputs": [
    {
     "name": "stdout",
     "output_type": "stream",
     "text": [
      "\u001b[32m\u001b[1m  Updating\u001b[22m\u001b[39m registry at `~/.julia/registries/General`\n",
      "\u001b[32m\u001b[1m  Updating\u001b[22m\u001b[39m git-repo `https://github.com/JuliaRegistries/General.git`\n",
      "\u001b[2K\u001b[?25h[1mFetching:\u001b[22m\u001b[39m [========================================>]  100.0 %.0 %=========>                               ]  22.2 %]  44.1 %===========================>             ]  66.3 %============================>            ]  67.9 %\u001b[32m\u001b[1m Resolving\u001b[22m\u001b[39m package versions...\n",
      "\u001b[32m\u001b[1m Installed\u001b[22m\u001b[39m FillArrays ─ v0.9.4\n",
      "\u001b[32m\u001b[1m  Updating\u001b[22m\u001b[39m `~/.julia/environments/v1.3/Project.toml`\n",
      "\u001b[90m [no changes]\u001b[39m\n",
      "\u001b[32m\u001b[1m  Updating\u001b[22m\u001b[39m `~/.julia/environments/v1.3/Manifest.toml`\n",
      " \u001b[90m [1a297f60]\u001b[39m\u001b[93m ↑ FillArrays v0.9.2 ⇒ v0.9.4\u001b[39m\n",
      "\u001b[32m\u001b[1m Resolving\u001b[22m\u001b[39m package versions...\n",
      "\u001b[32m\u001b[1m  Updating\u001b[22m\u001b[39m `~/.julia/environments/v1.3/Project.toml`\n",
      "\u001b[90m [no changes]\u001b[39m\n",
      "\u001b[32m\u001b[1m  Updating\u001b[22m\u001b[39m `~/.julia/environments/v1.3/Manifest.toml`\n",
      "\u001b[90m [no changes]\u001b[39m\n",
      "\u001b[32m\u001b[1m Resolving\u001b[22m\u001b[39m package versions...\n",
      "\u001b[32m\u001b[1m  Updating\u001b[22m\u001b[39m `~/.julia/environments/v1.3/Project.toml`\n",
      "\u001b[90m [no changes]\u001b[39m\n",
      "\u001b[32m\u001b[1m  Updating\u001b[22m\u001b[39m `~/.julia/environments/v1.3/Manifest.toml`\n",
      "\u001b[90m [no changes]\u001b[39m\n",
      "\u001b[32m\u001b[1m Resolving\u001b[22m\u001b[39m package versions...\n",
      "\u001b[32m\u001b[1m  Updating\u001b[22m\u001b[39m `~/.julia/environments/v1.3/Project.toml`\n",
      "\u001b[90m [no changes]\u001b[39m\n",
      "\u001b[32m\u001b[1m  Updating\u001b[22m\u001b[39m `~/.julia/environments/v1.3/Manifest.toml`\n",
      "\u001b[90m [no changes]\u001b[39m\n"
     ]
    }
   ],
   "source": [
    "import Pkg; \n",
    "Pkg.add(\"Distributions\")\n",
    "Pkg.add(\"ProgressBars\")\n",
    "Pkg.add(\"Statistics\")\n",
    "Pkg.add(\"PyPlot\")"
   ]
  },
  {
   "cell_type": "code",
   "execution_count": 1,
   "metadata": {},
   "outputs": [
    {
     "data": {
      "text/plain": [
       "Plots.PyPlotBackend()"
      ]
     },
     "execution_count": 1,
     "metadata": {},
     "output_type": "execute_result"
    }
   ],
   "source": [
    "using Distributions,ProgressBars,Statistics,Plots\n",
    "pyplot()"
   ]
  },
  {
   "cell_type": "code",
   "execution_count": 2,
   "metadata": {},
   "outputs": [
    {
     "data": {
      "text/plain": [
       "LenientTS (generic function with 1 method)"
      ]
     },
     "execution_count": 2,
     "metadata": {},
     "output_type": "execute_result"
    }
   ],
   "source": [
    "function ArgMax(Arr)\n",
    "    max_indices = findall(Arr .== maximum(Arr))\n",
    "    n = length(max_indices)\n",
    "    idx = rand(1:n)\n",
    "    a = max_indices[idx]\n",
    "    return a\n",
    "end\n",
    "\n",
    "function LenientTS(mu,eps)\n",
    "    k::Int = 2 #number of arms\n",
    "    N = zeros(k);\n",
    "    S = zeros(k);\n",
    "    theta = zeros(k);\n",
    "    mu_hat = zeros(k);\n",
    "    alpha = zeros(k);\n",
    "    beta = zeros(k);\n",
    "    T::Int = 1000\n",
    "    for i in (1:T)\n",
    "        for a in 1:k\n",
    "            if mu_hat[a] > (1-eps)\n",
    "                theta[a] = mu_hat[a]\n",
    "            else\n",
    "                alpha[a] = floor(S[a]/(1-eps)) + 1\n",
    "                beta[a] = N[a] + 2 - alpha[a]\n",
    "                beta_distr = Beta(alpha[a],beta[a])\n",
    "                Y = rand(beta_distr)\n",
    "                theta[a] = (1-eps)*Y\n",
    "            end\n",
    "        end\n",
    "        a = ArgMax(theta)\n",
    "        N[a] = N[a] + 1\n",
    "        bern_distr = Bernoulli(mu[a])\n",
    "        X = rand(bern_distr)\n",
    "        S[a] = S[a] + X\n",
    "        mu_hat[a] = S[a]/N[a]\n",
    "    end\n",
    "    return N\n",
    "end"
   ]
  },
  {
   "cell_type": "code",
   "execution_count": 18,
   "metadata": {},
   "outputs": [
    {
     "name": "stdout",
     "output_type": "stream",
     "text": [
      "100.0%┣██████████████████████████████████████████████████████████┫ 100/100 [00:01<00:00, 171.5 it/s]\n"
     ]
    }
   ],
   "source": [
    "runs = 100\n",
    "trials = 1\n",
    "N1 = zeros(2,trials,runs)\n",
    "N2 = zeros(2,trials,runs)\n",
    "for i in ProgressBar(1:runs)\n",
    "    for t in 1:trials\n",
    "        eps = 0.2\n",
    "        temp = 0.2\n",
    "        mu = [0.5,temp]\n",
    "        N1[:,t,i] = LenientTS(mu,eps)\n",
    "        eps = 0.0\n",
    "        N2[:,t,i] = LenientTS(mu,eps)\n",
    "    end\n",
    "end\n"
   ]
  },
  {
   "cell_type": "code",
   "execution_count": 21,
   "metadata": {},
   "outputs": [],
   "source": [
    "reg_count1 = zeros(trials)\n",
    "reg_count2 = zeros(trials)\n",
    "for i in 1:trials\n",
    "    reg_count1[i] = mean(N1[2,i,:])\n",
    "    reg_count2[i] = mean(N2[2,i,:])\n",
    "end"
   ]
  },
  {
   "cell_type": "code",
   "execution_count": 22,
   "metadata": {},
   "outputs": [
    {
     "data": {
      "image/png": "[encoded data removed]"
     },
     "execution_count": 22,
     "metadata": {},
     "output_type": "execute_result"
    }
   ],
   "source": [
    "x = (0:runs-1)/runs*(0.5-0.2)\n",
    "scatter(x,reg_count1,label=\"LenientTS\",title=\"Number of Times Suboptimal Arm was Pulled\")\n",
    "scatter!(x,reg_count2,label=\"TS\")"
   ]
  },
  {
   "cell_type": "code",
   "execution_count": 23,
   "metadata": {},
   "outputs": [
    {
     "data": {
      "text/plain": [
       "2×1×100 Array{Float64,3}:\n",
       "[:, :, 1] =\n",
       " 976.0\n",
       "  24.0\n",
       "\n",
       "[:, :, 2] =\n",
       " 994.0\n",
       "   6.0\n",
       "\n",
       "[:, :, 3] =\n",
       " 990.0\n",
       "  10.0\n",
       "\n",
       "...\n",
       "\n",
       "[:, :, 98] =\n",
       " 992.0\n",
       "   8.0\n",
       "\n",
       "[:, :, 99] =\n",
       " 993.0\n",
       "   7.0\n",
       "\n",
       "[:, :, 100] =\n",
       " 993.0\n",
       "   7.0"
      ]
     },
     "execution_count": 23,
     "metadata": {},
     "output_type": "execute_result"
    }
   ],
   "source": [
    "N1"
   ]
  },
  {
   "cell_type": "code",
   "execution_count": 24,
   "metadata": {},
   "outputs": [
    {
     "data": {
      "text/plain": [
       "2×1×100 Array{Float64,3}:\n",
       "[:, :, 1] =\n",
       " 919.0\n",
       "  81.0\n",
       "\n",
       "[:, :, 2] =\n",
       " 990.0\n",
       "  10.0\n",
       "\n",
       "[:, :, 3] =\n",
       " 977.0\n",
       "  23.0\n",
       "\n",
       "...\n",
       "\n",
       "[:, :, 98] =\n",
       " 982.0\n",
       "  18.0\n",
       "\n",
       "[:, :, 99] =\n",
       " 989.0\n",
       "  11.0\n",
       "\n",
       "[:, :, 100] =\n",
       " 992.0\n",
       "   8.0"
      ]
     },
     "execution_count": 24,
     "metadata": {},
     "output_type": "execute_result"
    }
   ],
   "source": [
    "N2"
   ]
  },
  {
   "cell_type": "code",
   "execution_count": null,
   "metadata": {},
   "outputs": [],
   "source": []
  }
 ],
 "metadata": {
  "kernelspec": {
   "display_name": "Julia 1.3.1",
   "language": "julia",
   "name": "julia-1.3"
  },
  "language_info": {
   "file_extension": ".jl",
   "mimetype": "application/julia",
   "name": "julia",
   "version": "1.3.1"
  }
 },
 "nbformat": 4,
 "nbformat_minor": 2
}
